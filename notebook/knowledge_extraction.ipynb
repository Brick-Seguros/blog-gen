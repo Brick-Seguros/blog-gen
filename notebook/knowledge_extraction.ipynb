{
 "cells": [
  {
   "cell_type": "code",
   "execution_count": null,
   "metadata": {},
   "outputs": [],
   "source": []
  },
  {
   "cell_type": "markdown",
   "metadata": {},
   "source": [
    "# Brick Knowledge Extraction"
   ]
  },
  {
   "cell_type": "markdown",
   "metadata": {},
   "source": [
    "## Blog das Locadoras"
   ]
  },
  {
   "cell_type": "code",
   "execution_count": null,
   "metadata": {},
   "outputs": [],
   "source": [
    "import requests\n",
    "from bs4 import BeautifulSoup\n",
    "\n",
    "blog_das_locadoras = []\n",
    "amount_of_pages = 166\n",
    "\n",
    "for i in range(amount_of_pages+1):\n",
    "    url = f\"https://blogdaslocadoras.com.br/locadoras-de-veiculos/mercado-de-locacao/page/{i}\"\n",
    "    response = requests.get(url)\n",
    "    soup = BeautifulSoup(response.content, 'html.parser')\n",
    "    links = soup.find_all('a')\n",
    "    for link in links:\n",
    "        l = link.get('href')\n",
    "        if '.html' in l:\n",
    "            if l not in blog_das_locadoras:\n",
    "                blog_das_locadoras.append(l)\n",
    "\n",
    "print(blog_das_locadoras)\n"
   ]
  },
  {
   "cell_type": "code",
   "execution_count": null,
   "metadata": {},
   "outputs": [],
   "source": [
    "\n",
    "blog_texts = []\n",
    "\n",
    "i = 0\n",
    "for blog in blog_das_locadoras:\n",
    "    url = blog\n",
    "    response = requests.get(url)    \n",
    "    soup = BeautifulSoup(response.content, 'html.parser')\n",
    "    texts = soup.select('div.cm-post-content')\n",
    "    t = texts[0].get_text()\n",
    "    blog_texts.append(t)\n",
    "    \n",
    "    if i != 0 & i % 1000 == 0:\n",
    "        print(\"Processed \", i, \" blogs out of \", len(blog_das_locadoras))\n"
   ]
  },
  {
   "cell_type": "code",
   "execution_count": null,
   "metadata": {},
   "outputs": [],
   "source": [
    "# Write the blog texts to a file\n",
    "\n",
    "with open('blog_texts.txt', 'w') as f:\n",
    "    for item in blog_texts:\n",
    "        #  add a ########## to separate the blogs\n",
    "        f.write(\"%s\\n\" % item)\n",
    "        f.write(\"##########\\n\")"
   ]
  },
  {
   "cell_type": "markdown",
   "metadata": {},
   "source": [
    "## Notion"
   ]
  },
  {
   "cell_type": "code",
   "execution_count": null,
   "metadata": {},
   "outputs": [],
   "source": []
  },
  {
   "cell_type": "markdown",
   "metadata": {},
   "source": [
    "## Hubspot"
   ]
  },
  {
   "cell_type": "markdown",
   "metadata": {},
   "source": [
    "## TLDV"
   ]
  },
  {
   "cell_type": "code",
   "execution_count": null,
   "metadata": {},
   "outputs": [],
   "source": []
  },
  {
   "cell_type": "code",
   "execution_count": null,
   "metadata": {},
   "outputs": [],
   "source": []
  }
 ],
 "metadata": {
  "language_info": {
   "name": "python"
  }
 },
 "nbformat": 4,
 "nbformat_minor": 2
}
